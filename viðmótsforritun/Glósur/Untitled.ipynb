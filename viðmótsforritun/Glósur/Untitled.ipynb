{
 "cells": [
  {
   "cell_type": "markdown",
   "id": "ab0a5e7c-4727-4808-a514-79af6db156ff",
   "metadata": {},
   "source": [
    "# Pipemania Glósur dæmivika 5."
   ]
  },
  {
   "cell_type": "code",
   "execution_count": null,
   "id": "d1f534ee-8f4e-4a94-a740-19e5eb034688",
   "metadata": {},
   "outputs": [],
   "source": []
  }
 ],
 "metadata": {
  "kernelspec": {
   "display_name": "Python 3 (ipykernel)",
   "language": "python",
   "name": "python3"
  },
  "language_info": {
   "codemirror_mode": {
    "name": "ipython",
    "version": 3
   },
   "file_extension": ".py",
   "mimetype": "text/x-python",
   "name": "python",
   "nbconvert_exporter": "python",
   "pygments_lexer": "ipython3",
   "version": "3.10.8"
  }
 },
 "nbformat": 4,
 "nbformat_minor": 5
}
