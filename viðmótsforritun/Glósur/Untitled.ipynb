{
 "cells": [
  {
   "cell_type": "markdown",
   "id": "51552fd4-7187-4ac1-b3e6-6a516598c6a7",
   "metadata": {},
   "source": [
    "https://haskoliislands.instructure.com/courses/23185/pages/4-dot-1-properties-og-binding?module_item_id=558082"
   ]
  },
  {
   "cell_type": "markdown",
   "id": "73cd4d1c-02af-4ae0-a706-13b8ae2f849f",
   "metadata": {},
   "source": [
    "Bind  - til þess að gera breytu háð annarri breytu. (Getur ekki nota venjuleg/local breytur eins int eða string.\n",
    "\n"
   ]
  }
 ],
 "metadata": {
  "kernelspec": {
   "display_name": "Python 3 (ipykernel)",
   "language": "python",
   "name": "python3"
  },
  "language_info": {
   "codemirror_mode": {
    "name": "ipython",
    "version": 3
   },
   "file_extension": ".py",
   "mimetype": "text/x-python",
   "name": "python",
   "nbconvert_exporter": "python",
   "pygments_lexer": "ipython3",
   "version": "3.10.8"
  }
 },
 "nbformat": 4,
 "nbformat_minor": 5
}
