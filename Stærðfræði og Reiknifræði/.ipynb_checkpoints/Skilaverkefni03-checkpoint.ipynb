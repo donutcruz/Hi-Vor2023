{
 "cells": [
  {
   "cell_type": "markdown",
   "id": "aeb2242e-5ec8-4da6-a4c2-5d90f0874077",
   "metadata": {},
   "source": [
    "# Skilaverkefni03. Stærð- og Reiknifræði REI201G\n",
    "### Donn Eunice Bartido deb5@hi.is \n",
    "Janúar 2023\n",
    "               "
   ]
  },
  {
   "cell_type": "markdown",
   "id": "2da5e9ca-4410-4bf2-8e7f-4e0e608741ed",
   "metadata": {},
   "source": [
    "### Verkefni 4. Orðaleikur\n",
    "\n",
    "1) Skrifið fall telja(s) sem byrjar á nota s.split() til að búa til lista af einstökum orðum í s og telur síðan hve margir stafir eru í hverju orði.\n",
    "Fallið á að skila lista með þessari talningu. Þannig ætti\n",
    "\n",
    "telja(\"Afi minn og amma mín\")\n",
    "\n",
    "að skila listanum [3,4,2,4,3]. \n",
    "\n",
    "Prófið líka að telja stafi í nafninu ykkar (t.d. telja(\"Kristján Jónasson\")). Líklega borgar sig að búa fyrst til tóman lista og fara svo í lykkju og bæta nýrri talningu afast í listann í hverri umferð (t.d. með append).\n",
    "\n",
    "2) Búið til fall hrópa(s) sem skrifar s út með stórum stöfum og tveimur upphrópunarmerkjum. Hrópið svo nafnið ykkar :)\n",
    "\n",
    "3) Til að athuga hvort stafur c sé hástafur má spyrja: c == c.upper(). Skrifið fall stórir(s) sem skilar lista af rökgildum með i-ta gildið satt ef i-ta orðið í s byrjar á stórum staf. Prófið með sjálfvöldu dæmi og sýnið niðurstöðuna."
   ]
  },
  {
   "cell_type": "markdown",
   "id": "f02db460-917a-4000-81ea-1ff73c6e18ba",
   "metadata": {},
   "source": [
    "### Lausn: "
   ]
  },
  {
   "cell_type": "code",
   "execution_count": 3,
   "id": "52fb0eb2-cff3-45fb-87c8-cb5706e3432e",
   "metadata": {},
   "outputs": [
    {
     "name": "stdout",
     "output_type": "stream",
     "text": [
      "[3, 4, 2, 4, 3]\n"
     ]
    }
   ],
   "source": [
    "# 1) \n",
    "\n",
    "def telja(s):\n",
    "    ord = s.split()\n",
    "    stafatalning = []\n",
    "    for ord in ord:\n",
    "        stafatalning.append(len(ord))\n",
    "    return stafatalning\n",
    "\n",
    "print(telja(\"Afi minn og amma mín\"))"
   ]
  },
  {
   "cell_type": "code",
   "execution_count": 5,
   "id": "dd43dca4-6b0b-4bd6-bc65-6a28cc77fded",
   "metadata": {},
   "outputs": [
    {
     "name": "stdout",
     "output_type": "stream",
     "text": [
      "[5, 4]\n"
     ]
    }
   ],
   "source": [
    "#1 með mínu nafni\n",
    "\n",
    "def telja(s):\n",
    "    ord = s.split()\n",
    "    stafatalning = []\n",
    "    for ord in ord: \n",
    "        stafatalning.append(len(ord))\n",
    "    return stafatalning\n",
    "print(telja(\"Donna Cruz\"))"
   ]
  },
  {
   "cell_type": "code",
   "execution_count": 6,
   "id": "c9e8339f-bb48-4505-a889-f06e100e707c",
   "metadata": {},
   "outputs": [
    {
     "name": "stdout",
     "output_type": "stream",
     "text": [
      "DONNA CRUZ!!!\n"
     ]
    }
   ],
   "source": [
    "#2 Hróp \n",
    "\n",
    "def hropa(s):\n",
    "    return s.upper() + \"!!!\"\n",
    "\n",
    "print(hropa(\"Donna Cruz\"))"
   ]
  },
  {
   "cell_type": "code",
   "execution_count": 11,
   "id": "0c9e1846-e560-4940-a49e-54be8d43f5f0",
   "metadata": {},
   "outputs": [
    {
     "name": "stdout",
     "output_type": "stream",
     "text": [
      "[True, True, False, False, False, False, False, False, False, True, True]\n"
     ]
    }
   ],
   "source": [
    "#3 Ath hvor stafur c sé með hástaf\n",
    "\n",
    "def storir(s):\n",
    "    ord = s.split()\n",
    "    result = []\n",
    "    for ord in ord:\n",
    "        if ord[0] == ord[0].upper():\n",
    "            result.append(True)\n",
    "        else:\n",
    "            result.append(False)\n",
    "    return result\n",
    "\n",
    "print(storir(\"Donna Cruz er frægust og bestust og lék í Agnes Joy\"))"
   ]
  },
  {
   "cell_type": "markdown",
   "id": "cd437589-7932-4773-9e4e-ec589a5df656",
   "metadata": {},
   "source": [
    "### Verkefni 10. Töluleg Difrun\n",
    "\n",
    "1) Eftirfarandi formúlu má nota til að nálga afleiðu falls í punkti 𝑎:\n",
    "𝑓′(𝑎)≈𝑓(𝑎+ℎ)−𝑓(𝑎−ℎ)/2ℎ\n",
    "\n",
    "þar sem ℎ er lítil tala. Skrifið fall töldiff(f, a, h) sem reiknar slíka nálgun og skilar henni. \n",
    "Prófið með 𝑓(𝑥)=𝑥‾‾√, 𝑎=4 og ℎ=10−4\n",
    " (sem ætti að skila tölu sem er nálægt 124√).\n",
    "\n",
    "2) Skrifið nú töflu yfir nálgunina fyrir ℎ=10−𝑘,𝑘=1,...10,\n",
    " og látið fylgja með dálk sem sýnir hve skekkjan er mikil. Merkið með ∗\n",
    " línuna þar sem skekkjan er minnst."
   ]
  },
  {
   "cell_type": "code",
   "execution_count": 13,
   "id": "3711fba6-7304-487a-89ce-dea71d4faea2",
   "metadata": {},
   "outputs": [
    {
     "name": "stdout",
     "output_type": "stream",
     "text": [
      "0.2500000000205116\n"
     ]
    }
   ],
   "source": [
    "# 1. Skrifa fall töludiff sem reiknar nálgun og skilar henni.\n",
    "\n",
    "def toludiff(f, a, h):\n",
    "    return(f(a+h) - f(a-h)) / (2*h)\n",
    "\n",
    "# Testa fallið með gildi f(x) = √x, a = 4, h = 10**-4\n",
    " \n",
    "def f(x):\n",
    "    return x**0.5\n",
    "\n",
    "a = 4\n",
    "h = 10**-4\n",
    "\n",
    "print(toludiff(f, a, h))"
   ]
  },
  {
   "cell_type": "code",
   "execution_count": 27,
   "id": "8a8a44bd-bb36-4302-aa8a-176221480e80",
   "metadata": {
    "tags": []
   },
   "outputs": [
    {
     "ename": "NameError",
     "evalue": "name 'skekkja' is not defined",
     "output_type": "error",
     "traceback": [
      "\u001b[0;31m---------------------------------------------------------------------------\u001b[0m",
      "\u001b[0;31mNameError\u001b[0m                                 Traceback (most recent call last)",
      "Cell \u001b[0;32mIn[27], line 17\u001b[0m\n\u001b[1;32m     15\u001b[0m     sirka \u001b[38;5;241m=\u001b[39m toludiff(f, a, h)\n\u001b[1;32m     16\u001b[0m     nklega \u001b[38;5;241m=\u001b[39m f(a)\n\u001b[0;32m---> 17\u001b[0m     skekkja \u001b[38;5;241m=\u001b[39m \u001b[38;5;28mabs\u001b[39m(sirka \u001b[38;5;241m-\u001b[39m \u001b[43mskekkja\u001b[49m)\n\u001b[1;32m     19\u001b[0m \u001b[38;5;28mprint\u001b[39m(\u001b[38;5;124mf\u001b[39m\u001b[38;5;124m\"\u001b[39m\u001b[38;5;124mh = \u001b[39m\u001b[38;5;132;01m{\u001b[39;00mh\u001b[38;5;132;01m:\u001b[39;00m\u001b[38;5;124m.0e\u001b[39m\u001b[38;5;132;01m}\u001b[39;00m\u001b[38;5;124m \u001b[39m\u001b[38;5;130;01m\\t\u001b[39;00m\u001b[38;5;124m sirka = \u001b[39m\u001b[38;5;132;01m{\u001b[39;00msirka\u001b[38;5;132;01m:\u001b[39;00m\u001b[38;5;124m.4f\u001b[39m\u001b[38;5;132;01m}\u001b[39;00m\u001b[38;5;124m \u001b[39m\u001b[38;5;130;01m\\t\u001b[39;00m\u001b[38;5;124m skekkja = \u001b[39m\u001b[38;5;132;01m{\u001b[39;00mskekkja\u001b[38;5;132;01m:\u001b[39;00m\u001b[38;5;124m.4e\u001b[39m\u001b[38;5;132;01m}\u001b[39;00m\u001b[38;5;124m\"\u001b[39m)\n",
      "\u001b[0;31mNameError\u001b[0m: name 'skekkja' is not defined"
     ]
    }
   ],
   "source": [
    "#2 Tafla yfir nálgunina fyrir h= 10**-k, k= 1,....10. \n",
    "\n",
    "import math\n",
    "\n",
    "def toludiff(f, a, h):\n",
    "    return(f(a+h) - f(a-h)) / (2*h)\n",
    "\n",
    "def f(x):\n",
    "    return x** 0.5\n",
    "\n",
    "a = 4\n",
    "\n",
    "for k in range(1,11):\n",
    "    h = 10**(-k)\n",
    "    sirka = toludiff(f, a, h)\n",
    "    nklega = f(a)\n",
    "    skekkja = abs(sirka - skekkja)\n",
    "    \n",
    "print(f\"h = {h:.0e} \\t sirka = {sirka:.4f} \\t skekkja = {skekkja:.4e}\")"
   ]
  },
  {
   "cell_type": "code",
   "execution_count": 15,
   "id": "d2757e7b-a7be-4940-ba7e-ee6377c003a9",
   "metadata": {},
   "outputs": [
    {
     "name": "stdout",
     "output_type": "stream",
     "text": [
      "h = 1e-01 \t approx = 0.2500 \t error = 1.7500e+00\n",
      "h = 1e-02 \t approx = 0.2500 \t error = 1.7500e+00\n",
      "h = 1e-03 \t approx = 0.2500 \t error = 1.7500e+00\n",
      "h = 1e-04 \t approx = 0.2500 \t error = 1.7500e+00\n",
      "h = 1e-05 \t approx = 0.2500 \t error = 1.7500e+00\n",
      "h = 1e-06 \t approx = 0.2500 \t error = 1.7500e+00\n",
      "h = 1e-07 \t approx = 0.2500 \t error = 1.7500e+00\n",
      "h = 1e-08 \t approx = 0.2500 \t error = 1.7500e+00\n",
      "h = 1e-09 \t approx = 0.2500 \t error = 1.7500e+00\n",
      "h = 1e-10 \t approx = 0.2500 \t error = 1.7500e+00\n"
     ]
    }
   ],
   "source": [
    "import math\n",
    "\n",
    "def töldiff(f, a, h):\n",
    "    return (f(a + h) - f(a - h))/(2*h)\n",
    "\n",
    "def f(x):\n",
    "    return x**(1/2)\n",
    "\n",
    "a = 4\n",
    "\n",
    "for k in range(1, 11):\n",
    "    h = 10**(-k)\n",
    "    approx = töldiff(f, a, h)\n",
    "    exact = f(a)\n",
    "    error = abs(approx - exact)\n",
    "    print(f\"h = {h:.0e} \\t approx = {approx:.4f} \\t error = {error:.4e}\")"
   ]
  },
  {
   "cell_type": "code",
   "execution_count": null,
   "id": "37e4c9b9-a308-4abf-b142-377b361649d8",
   "metadata": {},
   "outputs": [],
   "source": []
  }
 ],
 "metadata": {
  "kernelspec": {
   "display_name": "Python 3 (ipykernel)",
   "language": "python",
   "name": "python3"
  },
  "language_info": {
   "codemirror_mode": {
    "name": "ipython",
    "version": 3
   },
   "file_extension": ".py",
   "mimetype": "text/x-python",
   "name": "python",
   "nbconvert_exporter": "python",
   "pygments_lexer": "ipython3",
   "version": "3.10.8"
  }
 },
 "nbformat": 4,
 "nbformat_minor": 5
}
