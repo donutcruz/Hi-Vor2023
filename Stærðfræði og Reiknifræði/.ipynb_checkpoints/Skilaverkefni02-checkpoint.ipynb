{
 "cells": [
  {
   "cell_type": "markdown",
   "id": "12283408",
   "metadata": {},
   "source": [
    "Skilaverkefni02 | Donn Eunice | deb5@hi.is | 250794-3479\n",
    "__________________________________________________________\n"
   ]
  },
  {
   "cell_type": "markdown",
   "id": "4bf7f0af",
   "metadata": {},
   "source": [
    "Verkefni 2B Simpson Regla\n",
    "_________________________\n",
    "\n",
    "Skrifa skal forrit til að nálga heildi með svonefndri Simpsons-regla. Í trapisureglu er heildisbilinu skipt í 𝑛\n",
    "hlutbil, fallið sem heilda skal nálgað með beinum línustrikum og heildi þess nálgað með flatarmálinu undir þessum línustrikum. Í Simpsonsreglu er fallið hinsvegar nálgað (eða brúað eins og það er kallað) með parabólum og heildið nálgað með flatarmálinu undir þeim. Skoðið endilega Wikipedíu-grein um aðferðina.\n",
    "\n",
    "Simpsons-formúlan er eftirfarandi:\n",
    "\n",
    "∫𝑏𝑎𝑓(𝑥)𝑑𝑥≈Δ𝑥3(𝑓(𝑥0)+4𝑓(𝑥1)+2𝑓(𝑥2)+4𝑓(𝑥3)+2𝑓(𝑥4)+⋯+4𝑓(𝑥𝑛−1)+𝑓(𝑥𝑛))\n",
    "þar sem Δ𝑥\n",
    " og 𝑥𝑖\n",
    " eru eins og í A-lið og 𝑛\n",
    " er slétt tala.\n",
    " \n",
    "\n",
    "Skrifið fall simpson(f,a,b,n) sem nálgar heildið af f frá a til b með samsettri Simpsons-reglu með n hlutbilum.\n",
    "\n",
    "Prófið með heildunum (*) og (**)\n",
    "úr A-lið með 4 hlutbilum. \n",
    "Ef rétt er forritað ætti að fást\n",
    "(∗) 0.65933 og (∗∗) 1.71832. \n",
    "Kannið líka hve stórt 𝑛\n",
    "þarf að vera til að fá alla 7 aukastafina sem gefnir eru í töflunni í A-lið rétta. Heildið a‘ lokum eitthvert sjálfvalið fall þar sem afmælisdagur ykkar kemur við sögu."
   ]
  },
  {
   "cell_type": "code",
   "execution_count": null,
   "id": "b255a78b-abc6-4c0c-9c6c-d2c574f81e2e",
   "metadata": {},
   "outputs": [],
   "source": [
    "def simpson(f, a, b, n):\n",
    "    h = (b - a) / n\n",
    "    x = a + h\n",
    "    result = f(a) + f(b)\n",
    "    for i in range(1, n):\n",
    "        result += 4 * f(x) if i % 2 == 1 else 2 * f(x)\n",
    "        x += h\n",
    "    return (h / 3) * result\n",
    "\n",
    "# test á aðgerð\n",
    "def f(x):\n",
    "    return 3 * x**2 + 2 * x + 1\n",
    "\n",
    "print(simpson(f, 0, 2, 4)) # ætti að skila inn 0.65933\n",
    "\n",
    "# Test á aðgerð 2\n",
    "def g(x):\n",
    "    return x**3 + 2 * x**2 + 3 * x + 4\n",
    "\n",
    "print(simpson(g, 0, 2, 4)) # should return 1.71832\n",
    "\n",
    "#Til þess að fá 7 aukastafi rétt þarf að auka n. \n",
    "\n",
    "# afmælið mitt er 25.juní.1994\n",
    "import datetime\n",
    "\n",
    "def afmaeli(x):\n",
    "    birthdate = datetime.datetime(1994, 6, 25)\n",
    "    current_date = datetime.datetime.now()\n",
    "    age = (current_date - birthdate).days / 365\n",
    "    return x**2 + age\n",
    "\n",
    "print(simpson(afmaeli, 0, 2, 4))\n"
   ]
  },
  {
   "cell_type": "markdown",
   "id": "008c859c-8669-4c35-8d60-671c562efe64",
   "metadata": {},
   "source": [
    "7. Bóluröðun \n",
    "_________________________________________________\n",
    "\n",
    "Hér er reiknirit sem raðar n-staka lista x með bóluröðun bubble sort, sem snýst um að rúlla í gegn um stökin og ef tvö samliggjandi stök eru í öfugri röð þá er víxlað á þeim. \n",
    "Þetta er endurtekið þar til öll stökin eru í röð.\n",
    "Minnstu stökin bobbla smám saman eins og loftbólur fremst í listann.\n",
    "\n",
    "víxlað = satt\n",
    "meðan víxlað\n",
    "   víxlað = ósatt\n",
    "   fyrir i=1,...,n-1:\n",
    "      ef x[i-1] > x[i] þá\n",
    "         víxla á x[i-1] og x[i]\n",
    "         víxlað = satt\n",
    "         \n",
    "Þýðið þetta reiknirit yfir í Python-fall bóluröðun(x). Athugið að til að víxla á breytum x og y má nota (x,y) = (y,x). Prófið með því að raða listanum [3,8,1,2,5,4]."
   ]
  },
  {
   "cell_type": "code",
   "execution_count": 6,
   "id": "6d0b6a73-1475-4386-b965-3fa20c265ab7",
   "metadata": {},
   "outputs": [
    {
     "name": "stdout",
     "output_type": "stream",
     "text": [
      "Raðað númer:\n",
      "3 8 1 2 5 4 "
     ]
    }
   ],
   "source": [
    "#Bubble sort programm til að sortera tölurnar (3,8,1,2,5,4) frá minnsta í stærsta\n",
    "def bubbleSort(numer):\n",
    "\tn = len(numer)\n",
    "\t# Ef numer er nú þegar á minna en næsta þá þarf ekki að víxla\n",
    "\tswapped = False\n",
    "\tfor i in range(n-1):\n",
    "\t\tfor j in range(0, n-i-1):\n",
    "\n",
    "    # víxla ef númer á undan er stærra en númerið á eftir\n",
    "\t\t\tif arr[j] > arr[j + 1]:\n",
    "\t\t\t\tswapped = True\n",
    "\t\t\t\tnumer[j], numer[j + 1] = numer[j + 1], numer[j]\n",
    "\t\t\n",
    "\t\tif not swapped:\n",
    "    # ef ekkert er víxlað þá fara úr loop\n",
    "\t\t\treturn\n",
    "\n",
    "# upphaflega röðun á númer.\n",
    "numer = [3,8,1,2,5,4]\n",
    "\n",
    "bubbleSort(numer)\n",
    "\n",
    "print(\"Raðað númer:\")\n",
    "for i in range(len(numer)):\n",
    "\tprint(numer[i], end=\" \")\n"
   ]
  },
  {
   "cell_type": "markdown",
   "id": "0660d391-be0a-4100-b1e6-a741a6caca4a",
   "metadata": {},
   "source": [
    "38B) Vaxtareikningur\n",
    "\n",
    "1)\n",
    "Skrifið fall með stika u, p, k, m sem reiknar heildarvexti, 𝑣, af upphæð 𝑢 sem er á 𝑝 % vöxtum í 𝑘 ár og 𝑚\n",
    "mánuði skv. formúlunni\n",
    "\n",
    "𝑣=𝑢(1+𝑎)𝑘(1+𝑎𝑚12)−𝑢, þar sem 𝑎=𝑝100\n",
    "\n",
    "Skerið af aura (með fallinu int), hafið viðeigandi skjölunarstreng í fallinu, og prófið það með því að reikna 2% vexti af 10000 kr. í 3 ár og 4 mánuði (ætti að gefa 682 kr.).\n",
    "\n",
    "2) \n",
    "Reiknið heildarvexti til dagsins í dag ef 25000 kr. hefðu verið lagðar inn á 3% vexti á fæðingardegi ykkar (nálgið aldur ykkar í heilan mánuð), og reiknið jafnframt út hlutfall vaxtanna af upphaflegri upphæð. Notið f-strengi til að skrifa niðurstöðurnar með hæfilegum skýringartexta.\n",
    "\n",
    "3)\n",
    "Skrifið fall sem ákvarðar hve mörg ár og mánuði það tekur upphæð á 𝑛\n",
    "% vöxtum að tvöfaldast (notið t.d. tvöfalda lykkju, og return á viðeigandi stað). Prófið með n = 13 \n",
    "(ætti að gefa 5 ár og 8 mánuði) og með 𝑛 gefnu með fæðingarmánuði ykkar (t.d. 8 fyrir ágúst)"
   ]
  },
  {
   "cell_type": "code",
   "execution_count": 14,
   "id": "d92ac851-f2ec-403d-8c78-68558ec139b3",
   "metadata": {},
   "outputs": [
    {
     "name": "stdout",
     "output_type": "stream",
     "text": [
      "Heildarvirði 10000 með 2% vöxtum fyrir 3 ár og 4 mánuðir eru 682 kr.\n"
     ]
    }
   ],
   "source": [
    "# 1) \n",
    "def compound_interest(u, p, k, m):\n",
    "    a = p / 100\n",
    "    v = u * (1 + a) ** (k + (m / 12)) - u\n",
    "    v = int(v)\n",
    "    print(f\"Heildarvirði {u} með {p}% vöxtum fyrir {k} ár og {m} mánuðir eru {v} kr.\")\n",
    "\n",
    "compound_interest(10000, 2, 3, 4)\n"
   ]
  },
  {
   "cell_type": "code",
   "execution_count": 22,
   "id": "bc89c610-9ff2-4aa2-9a51-b909940c95db",
   "metadata": {},
   "outputs": [
    {
     "ename": "NameError",
     "evalue": "name 'fæðingardagur' is not defined",
     "output_type": "error",
     "traceback": [
      "\u001b[0;31m---------------------------------------------------------------------------\u001b[0m",
      "\u001b[0;31mNameError\u001b[0m                                 Traceback (most recent call last)",
      "Cell \u001b[0;32mIn[22], line 7\u001b[0m\n\u001b[1;32m      5\u001b[0m faeðingardagur \u001b[38;5;241m=\u001b[39m datetime\u001b[38;5;241m.\u001b[39mdatetime(\u001b[38;5;241m1994\u001b[39m, \u001b[38;5;241m6\u001b[39m, \u001b[38;5;241m25\u001b[39m)\n\u001b[1;32m      6\u001b[0m núverandi_dagur \u001b[38;5;241m=\u001b[39m datetime\u001b[38;5;241m.\u001b[39mdatetime\u001b[38;5;241m.\u001b[39mnow()\n\u001b[0;32m----> 7\u001b[0m dagar_síðan_fæðingardags \u001b[38;5;241m=\u001b[39m (núverandi_dagur \u001b[38;5;241m-\u001b[39m \u001b[43mfæðingardagur\u001b[49m)\u001b[38;5;241m.\u001b[39mdays\n\u001b[1;32m      9\u001b[0m upphæð \u001b[38;5;241m=\u001b[39m \u001b[38;5;241m25000\u001b[39m\n\u001b[1;32m     10\u001b[0m voxtur \u001b[38;5;241m=\u001b[39m \u001b[38;5;241m0.03\u001b[39m\n",
      "\u001b[0;31mNameError\u001b[0m: name 'fæðingardagur' is not defined"
     ]
    }
   ],
   "source": [
    "# 2 \n",
    "\n",
    "import datetime\n",
    "\n",
    "faeðingardagur = datetime.datetime(1994, 6, 25)\n",
    "núverandi_dagur = datetime.datetime.now()\n",
    "dagar_síðan_fæðingardags = (núverandi_dagur - fæðingardagur).days\n",
    "\n",
    "upphæð = 25000\n",
    "voxtur = 0.03\n",
    "\n",
    "heildarvextir = upphæð * voxtur * dagar_síðan_fæðingardags / 365\n",
    "heildarupphæð = upphæð + heildarvextir\n",
    "hlutfall_vexta = heildarvextir / upphæð * 100\n",
    "\n",
    "print(f\"Ef 25000 kr. var lagt á 3% vexti á fæðingardegi þínum {fæðingardagur.date()} til dagsetningar {núverandi_dagur.date()}\")\n",
    "print(f\"Heildarvextirnir eru {heildarvextir:.2f}kr og heildarupphæðin er {heildarupphæð:.2f}kr\")\n",
    "print(f\"sem er {hlutfall_vexta:.2f}% aukning á upphæðinni\")\n",
    "\n"
   ]
  }
 ],
 "metadata": {
  "kernelspec": {
   "display_name": "Python 3 (ipykernel)",
   "language": "python",
   "name": "python3"
  },
  "language_info": {
   "codemirror_mode": {
    "name": "ipython",
    "version": 3
   },
   "file_extension": ".py",
   "mimetype": "text/x-python",
   "name": "python",
   "nbconvert_exporter": "python",
   "pygments_lexer": "ipython3",
   "version": "3.10.8"
  }
 },
 "nbformat": 4,
 "nbformat_minor": 5
}
