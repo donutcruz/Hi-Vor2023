{
 "cells": [
  {
   "cell_type": "markdown",
   "id": "99e26fcb-85d2-4da1-aa53-38a7230ae620",
   "metadata": {},
   "source": [
    "# Tímadæmi04. Stærð- og Reiknifræði REI201G\n",
    "### Donn Eunice Bartido deb5@hi.is \n",
    "Janúar 2023\n"
   ]
  },
  {
   "cell_type": "markdown",
   "id": "eb576370-46b6-417b-8708-3545eec250b8",
   "metadata": {},
   "source": [
    "1. Búið til lista af tölum sem er ekki í röð og inniheldur einhver endurtekin stök. Búið til úr honum samstæðu, mengi og raðaðan lista.\n",
    "\n",
    "2. Breytið strengnum „abc“ í lista með skipuninni L = list(\"abc\").\n",
    "\n",
    "3. Notið split til að skipta \"Afi minn og amma mín\" í stök orð.\n",
    "\n",
    "4. Búið til enumerate-ítrara E úr L. Prentið bæði E og list(E).\n",
    "\n",
    "5. Búið til zip-ítrara Z úr L og listanum [\"Ari\", \"Bjarni\", \"Ceres\"]. Prentið Z og list(Z)."
   ]
  },
  {
   "cell_type": "code",
   "execution_count": 6,
   "id": "b9562250-9edd-4d3d-b55f-e5563e9e8b6d",
   "metadata": {},
   "outputs": [
    {
     "data": {
      "text/plain": [
       "(tuple[[1, 2, 3, 4, 5, 6, 7]], {1, 2, 3, 4, 5, 6, 7}, [1, 2, 3, 4, 5, 6, 7])"
      ]
     },
     "execution_count": 6,
     "metadata": {},
     "output_type": "execute_result"
    }
   ],
   "source": [
    "L = [1, 2, 3, 4, 5, 6, 7]\n",
    "s = tuple[L]\n",
    "m = set(L)\n",
    "raðað = sorted(L)\n",
    "\n",
    "s,m,raðað\n",
    "\n",
    "\n"
   ]
  },
  {
   "cell_type": "code",
   "execution_count": null,
   "id": "436cef50-b883-465b-86c1-c9bf42a1937e",
   "metadata": {},
   "outputs": [],
   "source": []
  }
 ],
 "metadata": {
  "kernelspec": {
   "display_name": "Python 3 (ipykernel)",
   "language": "python",
   "name": "python3"
  },
  "language_info": {
   "codemirror_mode": {
    "name": "ipython",
    "version": 3
   },
   "file_extension": ".py",
   "mimetype": "text/x-python",
   "name": "python",
   "nbconvert_exporter": "python",
   "pygments_lexer": "ipython3",
   "version": "3.10.8"
  }
 },
 "nbformat": 4,
 "nbformat_minor": 5
}
